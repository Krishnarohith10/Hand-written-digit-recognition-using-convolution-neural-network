{
 "cells": [
  {
   "cell_type": "code",
   "execution_count": 1,
   "metadata": {},
   "outputs": [
    {
     "name": "stderr",
     "output_type": "stream",
     "text": [
      "Using TensorFlow backend.\n"
     ]
    }
   ],
   "source": [
    "import numpy as np\n",
    "from keras.utils import to_categorical\n",
    "from keras.layers import *\n",
    "from keras.models import Sequential\n",
    "from keras.datasets import mnist\n",
    "import matplotlib.pyplot as plt"
   ]
  },
  {
   "cell_type": "markdown",
   "metadata": {},
   "source": [
    "MNIST is acronym that stand for Modified National Institute of Standards and Technology. It is a dataset of 70,000 small square 28×28 pixel grayscale images of handwritten single digits between 0 and 9."
   ]
  },
  {
   "cell_type": "code",
   "execution_count": 2,
   "metadata": {},
   "outputs": [],
   "source": [
    "(X_train, y_train), (X_test, y_test) = mnist.load_data()"
   ]
  },
  {
   "cell_type": "markdown",
   "metadata": {},
   "source": [
    "Shape of your training set and testing set"
   ]
  },
  {
   "cell_type": "code",
   "execution_count": 3,
   "metadata": {},
   "outputs": [
    {
     "data": {
      "text/plain": [
       "((60000, 28, 28), (60000,), (10000, 28, 28), (10000,))"
      ]
     },
     "execution_count": 3,
     "metadata": {},
     "output_type": "execute_result"
    }
   ],
   "source": [
    "X_train.shape, y_train.shape, X_test.shape, y_test.shape"
   ]
  },
  {
   "cell_type": "markdown",
   "metadata": {},
   "source": [
    "Sample image visualising"
   ]
  },
  {
   "cell_type": "code",
   "execution_count": 4,
   "metadata": {},
   "outputs": [
    {
     "name": "stdout",
     "output_type": "stream",
     "text": [
      "label of this image is:7\n"
     ]
    },
    {
     "data": {
      "image/png": "[encoded data removed]",
      "text/plain": [
       "<Figure size 432x288 with 1 Axes>"
      ]
     },
     "metadata": {
      "needs_background": "light"
     },
     "output_type": "display_data"
    }
   ],
   "source": [
    "plt.imshow(X_train[123])\n",
    "plt.xlabel('width')\n",
    "plt.ylabel('height')\n",
    "plt.title('Image')\n",
    "print('label of this image is:{}'.format(y_train[123]))"
   ]
  },
  {
   "cell_type": "code",
   "execution_count": 5,
   "metadata": {},
   "outputs": [],
   "source": [
    "X_train = X_train.reshape(60000, 28, 28, 1)\n",
    "X_test = X_test.reshape(10000, 28, 28, 1)"
   ]
  },
  {
   "cell_type": "markdown",
   "metadata": {},
   "source": [
    "Here we have to use to_categorical because we need to convert to one_hot vector.\n",
    "Don't worry if haven't heard this word you can search it in google. it more lengthy to explain it here."
   ]
  },
  {
   "cell_type": "code",
   "execution_count": 6,
   "metadata": {},
   "outputs": [],
   "source": [
    "y_train = to_categorical(y_train)\n",
    "y_test = to_categorical(y_test)"
   ]
  },
  {
   "cell_type": "markdown",
   "metadata": {},
   "source": [
    "Creating a model sequence"
   ]
  },
  {
   "cell_type": "code",
   "execution_count": 7,
   "metadata": {},
   "outputs": [
    {
     "name": "stderr",
     "output_type": "stream",
     "text": [
      "WARNING: Logging before flag parsing goes to stderr.\n",
      "W0814 09:31:51.184687 18544 deprecation_wrapper.py:119] From C:\\Users\\krishna rohit\\Anaconda3\\envs\\machine-learning\\lib\\site-packages\\keras\\backend\\tensorflow_backend.py:74: The name tf.get_default_graph is deprecated. Please use tf.compat.v1.get_default_graph instead.\n",
      "\n"
     ]
    }
   ],
   "source": [
    "model = Sequential()"
   ]
  },
  {
   "cell_type": "markdown",
   "metadata": {},
   "source": [
    "Adding layers to this model sequence"
   ]
  },
  {
   "cell_type": "code",
   "execution_count": 8,
   "metadata": {},
   "outputs": [
    {
     "name": "stderr",
     "output_type": "stream",
     "text": [
      "W0814 09:31:55.404460 18544 deprecation_wrapper.py:119] From C:\\Users\\krishna rohit\\Anaconda3\\envs\\machine-learning\\lib\\site-packages\\keras\\backend\\tensorflow_backend.py:517: The name tf.placeholder is deprecated. Please use tf.compat.v1.placeholder instead.\n",
      "\n",
      "W0814 09:31:55.414585 18544 deprecation_wrapper.py:119] From C:\\Users\\krishna rohit\\Anaconda3\\envs\\machine-learning\\lib\\site-packages\\keras\\backend\\tensorflow_backend.py:4138: The name tf.random_uniform is deprecated. Please use tf.random.uniform instead.\n",
      "\n",
      "W0814 09:31:55.549794 18544 deprecation_wrapper.py:119] From C:\\Users\\krishna rohit\\Anaconda3\\envs\\machine-learning\\lib\\site-packages\\keras\\backend\\tensorflow_backend.py:3976: The name tf.nn.max_pool is deprecated. Please use tf.nn.max_pool2d instead.\n",
      "\n"
     ]
    }
   ],
   "source": [
    "#1-layer convolution of filter/kernel size (3, 3) with activation function 'relu' with input_shape (28, 28, 1)\n",
    "model.add(Conv2D(6, kernel_size = (5, 5), strides = (1, 1), padding = 'same', input_shape=(28,28,1)))\n",
    "model.add(MaxPooling2D(pool_size = (2, 2), strides = (2, 2), padding = 'same'))\n",
    "#Activation Layer\n",
    "model.add(Activation('relu'))\n",
    "#2-layer convolution of filter/kernel size (3, 3) with activation function 'relu'\n",
    "model.add(Conv2D(16, kernel_size = (5, 5), strides = (1, 1), padding = 'same'))\n",
    "model.add(MaxPooling2D(pool_size = (2, 2), strides = (2, 2), padding = 'same'))\n",
    "#Activation Layer\n",
    "model.add(Activation('relu'))\n",
    "#flattening and applying dense\n",
    "model.add(Flatten())\n",
    "model.add(Dense(128, activation = 'relu'))\n",
    "model.add(Dense(10, activation = 'softmax'))"
   ]
  },
  {
   "cell_type": "markdown",
   "metadata": {},
   "source": [
    "Here call function compile with parameters given below"
   ]
  },
  {
   "cell_type": "code",
   "execution_count": 9,
   "metadata": {},
   "outputs": [
    {
     "name": "stderr",
     "output_type": "stream",
     "text": [
      "W0814 09:31:59.274648 18544 deprecation_wrapper.py:119] From C:\\Users\\krishna rohit\\Anaconda3\\envs\\machine-learning\\lib\\site-packages\\keras\\optimizers.py:790: The name tf.train.Optimizer is deprecated. Please use tf.compat.v1.train.Optimizer instead.\n",
      "\n",
      "W0814 09:31:59.402729 18544 deprecation_wrapper.py:119] From C:\\Users\\krishna rohit\\Anaconda3\\envs\\machine-learning\\lib\\site-packages\\keras\\backend\\tensorflow_backend.py:3295: The name tf.log is deprecated. Please use tf.math.log instead.\n",
      "\n"
     ]
    }
   ],
   "source": [
    "model.compile(optimizer = 'adam', loss = 'categorical_crossentropy', metrics = ['accuracy'])"
   ]
  },
  {
   "cell_type": "markdown",
   "metadata": {},
   "source": [
    "model has a function fit where it is used to train created mdoel with given parameters"
   ]
  },
  {
   "cell_type": "code",
   "execution_count": 10,
   "metadata": {},
   "outputs": [
    {
     "name": "stderr",
     "output_type": "stream",
     "text": [
      "W0814 09:32:03.382187 18544 deprecation.py:323] From C:\\Users\\krishna rohit\\Anaconda3\\envs\\machine-learning\\lib\\site-packages\\tensorflow\\python\\ops\\math_grad.py:1250: add_dispatch_support.<locals>.wrapper (from tensorflow.python.ops.array_ops) is deprecated and will be removed in a future version.\n",
      "Instructions for updating:\n",
      "Use tf.where in 2.0, which has the same broadcast rule as np.where\n",
      "W0814 09:32:03.699380 18544 deprecation_wrapper.py:119] From C:\\Users\\krishna rohit\\Anaconda3\\envs\\machine-learning\\lib\\site-packages\\keras\\backend\\tensorflow_backend.py:986: The name tf.assign_add is deprecated. Please use tf.compat.v1.assign_add instead.\n",
      "\n"
     ]
    },
    {
     "name": "stdout",
     "output_type": "stream",
     "text": [
      "Train on 60000 samples, validate on 10000 samples\n",
      "Epoch 1/4\n",
      "60000/60000 [==============================] - 89s 1ms/step - loss: 4.6753 - acc: 0.6812 - val_loss: 0.1165 - val_acc: 0.9624\n",
      "Epoch 2/4\n",
      "60000/60000 [==============================] - 95s 2ms/step - loss: 0.0905 - acc: 0.9725 - val_loss: 0.0757 - val_acc: 0.9751\n",
      "Epoch 3/4\n",
      "60000/60000 [==============================] - 114s 2ms/step - loss: 0.0504 - acc: 0.9839 - val_loss: 0.0638 - val_acc: 0.9816\n",
      "Epoch 4/4\n",
      "60000/60000 [==============================] - 108s 2ms/step - loss: 0.0360 - acc: 0.9881 - val_loss: 0.0637 - val_acc: 0.9834\n"
     ]
    },
    {
     "data": {
      "text/plain": [
       "<keras.callbacks.History at 0x1fcc46889e8>"
      ]
     },
     "execution_count": 10,
     "metadata": {},
     "output_type": "execute_result"
    }
   ],
   "source": [
    "model.fit(X_train, y_train, validation_data=(X_test, y_test), epochs=4, batch_size = 128, verbose = 1)"
   ]
  },
  {
   "cell_type": "code",
   "execution_count": null,
   "metadata": {},
   "outputs": [],
   "source": []
  }
 ],
 "metadata": {
  "kernelspec": {
   "display_name": "Python 3",
   "language": "python",
   "name": "python3"
  },
  "language_info": {
   "codemirror_mode": {
    "name": "ipython",
    "version": 3
   },
   "file_extension": ".py",
   "mimetype": "text/x-python",
   "name": "python",
   "nbconvert_exporter": "python",
   "pygments_lexer": "ipython3",
   "version": "3.6.8"
  }
 },
 "nbformat": 4,
 "nbformat_minor": 2
}
